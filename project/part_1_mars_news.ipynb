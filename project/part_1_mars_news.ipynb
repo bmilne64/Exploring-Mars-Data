{
 "cells": [
  {
   "cell_type": "markdown",
   "metadata": {},
   "source": [
    "# Module 12 Challenge\n",
    "## Deliverable 1: Scrape Titles and Preview Text from Mars News"
   ]
  },
  {
   "cell_type": "code",
   "execution_count": 47,
   "metadata": {},
   "outputs": [],
   "source": [
    "# Import Splinter and BeautifulSoup\n",
    "from splinter import Browser\n",
    "from bs4 import BeautifulSoup as soup\n",
    "from webdriver_manager.chrome import ChromeDriverManager\n",
    "import json"
   ]
  },
  {
   "cell_type": "code",
   "execution_count": 32,
   "metadata": {
    "scrolled": true
   },
   "outputs": [],
   "source": [
    "executable_path = {'executable_path': ChromeDriverManager().install()}\n",
    "browser = Browser('chrome', **executable_path, headless=False)"
   ]
  },
  {
   "cell_type": "markdown",
   "metadata": {},
   "source": [
    "### Step 1: Visit the Website\n",
    "\n",
    "1. Use automated browsing to visit the [Mars NASA news site](https://redplanetscience.com). Inspect the page to identify which elements to scrape.\n",
    "\n",
    "      > **Hint** To identify which elements to scrape, you might want to inspect the page by using Chrome DevTools."
   ]
  },
  {
   "cell_type": "code",
   "execution_count": 33,
   "metadata": {},
   "outputs": [],
   "source": [
    "# Visit the Mars NASA news site: https://redplanetscience.com\n",
    "url = 'https://redplanetscience.com'\n",
    "response = browser.visit(url)"
   ]
  },
  {
   "cell_type": "markdown",
   "metadata": {},
   "source": [
    "### Step 2: Scrape the Website\n",
    "\n",
    "Create a Beautiful Soup object and use it to extract text elements from the website."
   ]
  },
  {
   "cell_type": "code",
   "execution_count": 34,
   "metadata": {},
   "outputs": [],
   "source": [
    "# Create a Beautiful Soup object\n",
    "html = browser.html\n",
    "bs = soup(html, 'html.parser')"
   ]
  },
  {
   "cell_type": "code",
   "execution_count": 35,
   "metadata": {},
   "outputs": [
    {
     "data": {
      "text/plain": [
       "'<html>\\n <head>\\n  <meta charset=\"utf-8\"/>\\n  <meta content=\"width=device-width, initial-scale=1\" name=\"viewport\"/>\\n  <link crossorigin=\"anonymous\" href=\"https://cdn.jsdelivr.net/npm/bootstrap@5.0.0-beta1/dist/css/bootstrap.min.css\" integrity=\"sha384-giJF6kkoqNQ00vy+HMDP7azOuL0xtbfIcaT9wjKHr8RbDVddVHyTfAAsrekwKmP1\" rel=\"stylesheet\"/>\\n  <link href=\"css/font.css\" rel=\"stylesheet\" type=\"text/css\"/>\\n  <link href=\"css/app.css\" rel=\"stylesheet\" type=\"text/css\"/>\\n  <link crossorigin=\"anonymous\" href=\"https://pro.fontawesome.com/releases/v5.10.0/css/all.css\" integrity=\"sha384-AYmEC3Yw5cVb3ZcuHtOA93w35dYTsvhLPVnYs9eStHfGJvOvKxVfELGroGkvsg+p\" rel=\"stylesheet\"/>\\n  <title>\\n   News - Mars Exploration Program\\n  </title>\\n </head>\\n <body>\\n  <div class=\"col-md-12\">\\n   <div class=\"row\">\\n    <nav class=\"navbar navbar-expand-lg navbar-light fixed-top\">\\n     <div class=\"container-fluid\">\\n      <a class=\"navbar-brand\" href=\"#\">\\n       <img src=\"image/nasa.png\" width=\"80\"/>\\n       <span class=\"logo\">\\n        MARS Planet Science\\n       </span>\\n       <span class=\"logo1\">\\n        Exploration Program\\n       </span>\\n      </a>\\n      <button aria-controls=\"navbarNav\" aria-expanded=\"false\" aria-label=\"Toggle navigation\" class=\"navbar-toggler\" data-bs-target=\"#navbarNav\" data-bs-toggle=\"collapse\" type=\"button\">\\n       <span class=\"navbar-toggler-icon\">\\n       </span>\\n      </button>\\n      <div class=\"collapse navbar-collapse justify-content-end\" id=\"navbarNav\">\\n       <ul class=\"navbar-nav\">\\n        <li class=\"nav-item\">\\n         <a aria-current=\"page\" class=\"nav-link active\" href=\"#\">\\n          The Red Planet\\n         </a>\\n        </li>\\n        <li class=\"nav-item\">\\n         <a class=\"nav-link\" href=\"#\">\\n          The Program\\n         </a>\\n        </li>\\n        <li class=\"nav-item\">\\n         <a class=\"nav-link\" href=\"#\">\\n          News &amp; Events\\n         </a>\\n        </li>\\n        <li class=\"nav-item\">\\n         <a class=\"nav-link\" href=\"#\">\\n          Multimedia\\n         </a>\\n        </li>\\n        <li class=\"nav-item\">\\n         <a class=\"nav-link\" href=\"#\">\\n          Missions\\n         </a>\\n        </li>\\n        <li class=\"nav-item\">\\n         <a class=\"nav-link\" href=\"#\">\\n          More\\n         </a>\\n        </li>\\n        <li class=\"nav-item nav_search\">\\n         <a class=\"nav-link\" href=\"#\">\\n         </a>\\n        </li>\\n       </ul>\\n      </div>\\n     </div>\\n    </nav>\\n    <section class=\"search\">\\n     <div class=\"container\">\\n      <h1>\\n       News\\n      </h1>\\n      <div class=\"col-md-12 filter\">\\n       <div class=\"row\">\\n        <div class=\"col-md-3 search_binder\">\\n         <input class=\"search_field\" name=\"search\" type=\"text\"/>\\n         <input class=\"search_submit\" name=\"search\" type=\"text\"/>\\n        </div>\\n        <div class=\"col-md-3\">\\n         <select aria-label=\"Default select example\" class=\"form-select\" id=\"year\">\\n          <option selected=\"\">\\n           Latest\\n          </option>\\n          <option>\\n           2020\\n          </option>\\n          <option>\\n           2019\\n          </option>\\n         </select>\\n        </div>\\n        <div class=\"col-md-3\">\\n         <select aria-label=\"Default select example\" class=\"form-select\" id=\"cat\">\\n          <option selected=\"\">\\n           All Categories\\n          </option>\\n          <option>\\n           Feature Stories\\n          </option>\\n          <option>\\n           Press Releases\\n          </option>\\n          <option>\\n           Status Reports\\n          </option>\\n         </select>\\n        </div>\\n        <div class=\"col-md-3\">\\n        </div>\\n       </div>\\n      </div>\\n     </div>\\n    </section>\\n    <section class=\"image_and_description_container\">\\n     <div class=\"container\" id=\"news\">\\n      <div class=\"col-md-12\">\\n       <hr/>\\n       <div class=\"row\">\\n        <div class=\"col-md-4\">\\n         <div class=\"list_image\">\\n          <img src=\"https://mars.nasa.gov/system/news_items/list_view_images/8710_MARS2020_LAUNCH_320.jpg\"/>\\n         </div>\\n        </div>\\n        <div class=\"col-md-8\">\\n         <div class=\"list_text\">\\n          <div class=\"list_date\">\\n           December 3, 2022\\n          </div>\\n          <div class=\"content_title\">\\n           Join NASA for the Launch of the Mars 2020 Perseverance Rover\\n          </div>\\n          <div class=\"article_teaser_body\">\\n           No matter where you live, choose from a menu of activities to join NASA as we \"Countdown to Mars\" and launch the Perseverance rover to the Red Planet.\\n          </div>\\n         </div>\\n        </div>\\n       </div>\\n      </div>\\n      <div class=\"col-md-12\">\\n       <hr/>\\n       <div class=\"row\">\\n        <div class=\"col-md-4\">\\n         <div class=\"list_image\">\\n          <img src=\"https://mars.nasa.gov/system/news_items/list_view_images/8796_PIA24173-320.jpg\"/>\\n         </div>\\n        </div>\\n        <div class=\"col-md-8\">\\n         <div class=\"list_text\">\\n          <div class=\"list_date\">\\n           December 2, 2022\\n          </div>\\n          <div class=\"content_title\">\\n           NASA\\'s Curiosity Takes Selfie With \\'Mary Anning\\' on the Red Planet\\n          </div>\\n          <div class=\"article_teaser_body\">\\n           The Mars rover has drilled three samples of rock in this clay-enriched region since arriving in July.\\n          </div>\\n         </div>\\n        </div>\\n       </div>\\n      </div>\\n      <div class=\"col-md-12\">\\n       <hr/>\\n       <div class=\"row\">\\n        <div class=\"col-md-4\">\\n         <div class=\"list_image\">\\n          <img src=\"https://mars.nasa.gov/system/news_items/list_view_images/8756_25254_Christina_hernandez_mainmax-320x240.png\"/>\\n         </div>\\n        </div>\\n        <div class=\"col-md-8\">\\n         <div class=\"list_text\">\\n          <div class=\"list_date\">\\n           November 27, 2022\\n          </div>\\n          <div class=\"content_title\">\\n           My Culture, My Voice\\n          </div>\\n          <div class=\"article_teaser_body\">\\n           In honor of Hispanic Heritage Month, Christina Hernandez, an instrument engineer on the Mars 2020 mission, talks about her childhood and journey to NASA.\\n          </div>\\n         </div>\\n        </div>\\n       </div>\\n      </div>\\n      <div class=\"col-md-12\">\\n       <hr/>\\n       <div class=\"row\">\\n        <div class=\"col-md-4\">\\n         <div class=\"list_image\">\\n          <img src=\"https://mars.nasa.gov/system/news_items/list_view_images/8797_maven_illo_v7-320.jpg\"/>\\n         </div>\\n        </div>\\n        <div class=\"col-md-8\">\\n         <div class=\"list_text\">\\n          <div class=\"list_date\">\\n           November 26, 2022\\n          </div>\\n          <div class=\"content_title\">\\n           Heat and Dust Help Launch Martian Water Into Space, Scientists Find\\n          </div>\\n          <div class=\"article_teaser_body\">\\n           Scientists using an instrument aboard NASA’s Mars Atmosphere and Volatile EvolutioN, or MAVEN, spacecraft have discovered that water vapor near the surface of the Red Planet is lofted higher into the atmosphere than anyone expected was possible.\\n          </div>\\n         </div>\\n        </div>\\n       </div>\\n      </div>\\n      <div class=\"col-md-12\">\\n       <hr/>\\n       <div class=\"row\">\\n        <div class=\"col-md-4\">\\n         <div class=\"list_image\">\\n          <img src=\"https://mars.nasa.gov/system/news_items/list_view_images/8819_24759_PIA23491-web.jpg\"/>\\n         </div>\\n        </div>\\n        <div class=\"col-md-8\">\\n         <div class=\"list_text\">\\n          <div class=\"list_date\">\\n           November 20, 2022\\n          </div>\\n          <div class=\"content_title\">\\n           NASA Moves Forward With Campaign to Return Mars Samples to Earth\\n          </div>\\n          <div class=\"article_teaser_body\">\\n           During this next phase, the program will mature critical technologies and make critical design decisions as well as assess industry partnerships.\\n          </div>\\n         </div>\\n        </div>\\n       </div>\\n      </div>\\n      <div class=\"col-md-12\">\\n       <hr/>\\n       <div class=\"row\">\\n        <div class=\"col-md-4\">\\n         <div class=\"list_image\">\\n          <img src=\"https://mars.nasa.gov/system/news_items/list_view_images/8689_PIA23897-320x240.jpg\"/>\\n         </div>\\n        </div>\\n        <div class=\"col-md-8\">\\n         <div class=\"list_text\">\\n          <div class=\"list_date\">\\n           November 20, 2022\\n          </div>\\n          <div class=\"content_title\">\\n           NASA\\'s Mars Rover Drivers Need Your Help\\n          </div>\\n          <div class=\"article_teaser_body\">\\n           Using an online tool to label Martian terrain types, you can train an artificial intelligence algorithm that could improve the way engineers guide the Curiosity rover.\\n          </div>\\n         </div>\\n        </div>\\n       </div>\\n      </div>\\n      <div class=\"col-md-12\">\\n       <hr/>\\n       <div class=\"row\">\\n        <div class=\"col-md-4\">\\n         <div class=\"list_image\">\\n          <img src=\"https://mars.nasa.gov/system/news_items/list_view_images/8551_PIA23551-320x240.jpg\"/>\\n         </div>\\n        </div>\\n        <div class=\"col-md-8\">\\n         <div class=\"list_text\">\\n          <div class=\"list_date\">\\n           November 20, 2022\\n          </div>\\n          <div class=\"content_title\">\\n           Mars Scientists Investigate Ancient Life in Australia\\n          </div>\\n          <div class=\"article_teaser_body\">\\n           Teams with NASA\\'s Mars 2020 and ESA\\'s ExoMars practiced hunting for fossilized microbial life in the Australian Outback in preparation for their Red Planet missions.\\n          </div>\\n         </div>\\n        </div>\\n       </div>\\n      </div>\\n      <div class=\"col-md-12\">\\n       <hr/>\\n       <div class=\"row\">\\n        <div class=\"col-md-4\">\\n         <div class=\"list_image\">\\n          <img src=\"https://mars.nasa.gov/system/news_items/list_view_images/8622_1-PIA23764-RoverNamePlateonMars-320x240.jpg\"/>\\n         </div>\\n        </div>\\n        <div class=\"col-md-8\">\\n         <div class=\"list_text\">\\n          <div class=\"list_date\">\\n           November 18, 2022\\n          </div>\\n          <div class=\"content_title\">\\n           Virginia Middle School Student Earns Honor of Naming NASA\\'s Next Mars Rover\\n          </div>\\n          <div class=\"article_teaser_body\">\\n           NASA chose a seventh-grader from Virginia as winner of the agency\\'s \"Name the Rover\" essay contest. Alexander Mather\\'s entry for \"Perseverance\" was voted tops among 28,000 entries.\\n          </div>\\n         </div>\\n        </div>\\n       </div>\\n      </div>\\n      <div class=\"col-md-12\">\\n       <hr/>\\n       <div class=\"row\">\\n        <div class=\"col-md-4\">\\n         <div class=\"list_image\">\\n          <img src=\"https://mars.nasa.gov/system/news_items/list_view_images/8782_PIA-23989-320.jpg\"/>\\n         </div>\\n        </div>\\n        <div class=\"col-md-8\">\\n         <div class=\"list_text\">\\n          <div class=\"list_date\">\\n           November 16, 2022\\n          </div>\\n          <div class=\"content_title\">\\n           Sensors on Mars 2020 Spacecraft Answer Long-Distance Call From Earth\\n          </div>\\n          <div class=\"article_teaser_body\">\\n           Instruments tailored to collect data during the descent of NASA\\'s next rover through the Red Planet\\'s atmosphere have been checked in flight.\\n          </div>\\n         </div>\\n        </div>\\n       </div>\\n      </div>\\n      <div class=\"col-md-12\">\\n       <hr/>\\n       <div class=\"row\">\\n        <div class=\"col-md-4\">\\n         <div class=\"list_image\">\\n          <img src=\"https://mars.nasa.gov/system/news_items/list_view_images/8723_PIA24031-320.jpg\"/>\\n         </div>\\n        </div>\\n        <div class=\"col-md-8\">\\n         <div class=\"list_text\">\\n          <div class=\"list_date\">\\n           November 12, 2022\\n          </div>\\n          <div class=\"content_title\">\\n           NASA\\'s Perseverance Rover Will Carry First Spacesuit Materials to Mars\\n          </div>\\n          <div class=\"article_teaser_body\">\\n           In a Q&amp;A, spacesuit designer Amy Ross explains how five samples, including a piece of helmet visor, will be tested aboard the rover, which is targeting a July 30 launch.\\n          </div>\\n         </div>\\n        </div>\\n       </div>\\n      </div>\\n      <div class=\"col-md-12\">\\n       <hr/>\\n       <div class=\"row\">\\n        <div class=\"col-md-4\">\\n         <div class=\"list_image\">\\n          <img src=\"https://mars.nasa.gov/system/news_items/list_view_images/8594_apo_proton_aurora_no_text-320x240.jpg\"/>\\n         </div>\\n        </div>\\n        <div class=\"col-md-8\">\\n         <div class=\"list_text\">\\n          <div class=\"list_date\">\\n           November 10, 2022\\n          </div>\\n          <div class=\"content_title\">\\n           Newfound Martian Aurora Actually the Most Common; Sheds Light on Mars\\' Changing Climate\\n          </div>\\n          <div class=\"article_teaser_body\">\\n           A type of Martian aurora first identified by NASA’s MAVEN spacecraft in 2016 is actually the most common form of aurora occurring on the Red Planet, according to new results from the mission.\\n          </div>\\n         </div>\\n        </div>\\n       </div>\\n      </div>\\n      <div class=\"col-md-12\">\\n       <hr/>\\n       <div class=\"row\">\\n        <div class=\"col-md-4\">\\n         <div class=\"list_image\">\\n          <img src=\"https://mars.nasa.gov/system/news_items/list_view_images/8517_PIA23180-226.gif\"/>\\n         </div>\\n        </div>\\n        <div class=\"col-md-8\">\\n         <div class=\"list_text\">\\n          <div class=\"list_date\">\\n           November 10, 2022\\n          </div>\\n          <div class=\"content_title\">\\n           NASA\\'s InSight \\'Hears\\' Peculiar Sounds on Mars\\n          </div>\\n          <div class=\"article_teaser_body\">\\n           Listen to the marsquakes and other, less-expected sounds that the Mars lander has been detecting.\\n          </div>\\n         </div>\\n        </div>\\n       </div>\\n      </div>\\n      <div class=\"col-md-12\">\\n       <hr/>\\n       <div class=\"row\">\\n        <div class=\"col-md-4\">\\n         <div class=\"list_image\">\\n          <img src=\"https://mars.nasa.gov/system/news_items/list_view_images/8631_PIA23624_hutton-selfie-320x240.jpg\"/>\\n         </div>\\n        </div>\\n        <div class=\"col-md-8\">\\n         <div class=\"list_text\">\\n          <div class=\"list_date\">\\n           November 9, 2022\\n          </div>\\n          <div class=\"content_title\">\\n           NASA\\'s Curiosity Mars Rover Takes a New Selfie Before Record Climb\\n          </div>\\n          <div class=\"article_teaser_body\">\\n           Along with capturing an image before its steepest ascent ever, the robotic explorer filmed its \"selfie stick,\" or robotic arm, in action.\\n          </div>\\n         </div>\\n        </div>\\n       </div>\\n      </div>\\n      <div class=\"col-md-12\">\\n       <hr/>\\n       <div class=\"row\">\\n        <div class=\"col-md-4\">\\n         <div class=\"list_image\">\\n          <img src=\"https://mars.nasa.gov/system/news_items/list_view_images/8687_PIA23893-Odyssey-Phobos-320.jpg\"/>\\n         </div>\\n        </div>\\n        <div class=\"col-md-8\">\\n         <div class=\"list_text\">\\n          <div class=\"list_date\">\\n           November 7, 2022\\n          </div>\\n          <div class=\"content_title\">\\n           Three New Views of Mars\\' Moon Phobos\\n          </div>\\n          <div class=\"article_teaser_body\">\\n           Taken with the infrared camera aboard NASA\\'s Odyssey orbiter, they reveal temperature variations on the small moon as it drifts into and out of Mars’ shadow.\\n          </div>\\n         </div>\\n        </div>\\n       </div>\\n      </div>\\n      <div class=\"col-md-12\">\\n       <hr/>\\n       <div class=\"row\">\\n        <div class=\"col-md-4\">\\n         <div class=\"list_image\">\\n          <img src=\"https://mars.nasa.gov/system/news_items/list_view_images/8408_22206_PIA22655-th.gif\"/>\\n         </div>\\n        </div>\\n        <div class=\"col-md-8\">\\n         <div class=\"list_text\">\\n          <div class=\"list_date\">\\n           November 2, 2022\\n          </div>\\n          <div class=\"content_title\">\\n           The MarCO Mission Comes to an End\\n          </div>\\n          <div class=\"article_teaser_body\">\\n           The pair of briefcase-sized satellites made history when they sailed past Mars in 2019.\\n          </div>\\n         </div>\\n        </div>\\n       </div>\\n      </div>\\n     </div>\\n     <hr class=\"container\" style=\"margin: 25px auto;width: 83%;\"/>\\n     <button class=\"btn disable\" id=\"more\" onclick=\"populateContent()\">\\n      More\\n     </button>\\n    </section>\\n    <section class=\"last_news\">\\n     <div class=\"container\">\\n      <div class=\"row\">\\n       <div class=\"col-12\">\\n        <h2>\\n         You Might Also Like\\n        </h2>\\n       </div>\\n       <!--  <a class=\" prev\" href=\"#carouselExampleIndicators2\" role=\"button\" data-slide=\"prev\">\\n                  <i class=\"fas fa-angle-left\"></i>\\n                  </a>\\n                  <a class=\" next\" href=\"#carouselExampleIndicators2\" role=\"button\" data-slide=\"next\">\\n                  <i class=\"fas fa-angle-right\"></i>\\n                  </a> -->\\n       <div class=\"col-12\">\\n        <div class=\"carousel slide\" data-ride=\"carousel\" id=\"carouselExampleIndicators2\">\\n         <div class=\"carousel-inner\">\\n          <div class=\"carousel-item active\">\\n           <div class=\"row\">\\n            <div class=\"col-md-4 mb-3\">\\n             <div class=\"card\">\\n              <img alt=\"100%x280\" class=\"img-fluid\" src=\"https://mars.nasa.gov/system/news_items/main_images/8716_PIA23499-16.jpg\"/>\\n              <div class=\"card-body\">\\n               <p class=\"card-text\">\\n                NASA to Broadcast Mars 2020 Perseverance Launch, Prelaunch Activities\\n               </p>\\n              </div>\\n             </div>\\n            </div>\\n            <div class=\"col-md-4 mb-3\">\\n             <div class=\"card\">\\n              <img alt=\"100%x280\" class=\"img-fluid\" src=\"https://mars.nasa.gov/system/news_items/main_images/8716_PIA23499-16.jpg\"/>\\n              <div class=\"card-body\">\\n               <p class=\"card-text\">\\n                The Launch Is Approaching for NASA\\'s Next Mars Rover, Perseverance\\n               </p>\\n              </div>\\n             </div>\\n            </div>\\n            <div class=\"col-md-4 mb-3\">\\n             <div class=\"card\">\\n              <img alt=\"100%x280\" class=\"img-fluid\" src=\"https://mars.nasa.gov/system/news_items/main_images/8692_PIA23920-web.jpg\"/>\\n              <div class=\"card-body\">\\n               <p class=\"card-text\">\\n                NASA to Hold Mars 2020 Perseverance Rover Launch Briefing\\n               </p>\\n              </div>\\n             </div>\\n            </div>\\n           </div>\\n          </div>\\n          <div class=\"carousel-item\">\\n           <div class=\"row\">\\n            <div class=\"col-md-4 mb-3\">\\n             <div class=\"card\">\\n              <img alt=\"100%x280\" class=\"img-fluid\" src=\"https://images.unsplash.com/photo-1532771098148-525cefe10c23?ixlib=rb-0.3.5&amp;q=80&amp;fm=jpg&amp;crop=entropy&amp;cs=tinysrgb&amp;w=1080&amp;fit=max&amp;ixid=eyJhcHBfaWQiOjMyMDc0fQ&amp;s=3f317c1f7a16116dec454fbc267dd8e4\"/>\\n              <div class=\"card-body\">\\n               <p class=\"card-text\">\\n                With supporting text below as a natural lead-in to additional content.\\n               </p>\\n              </div>\\n             </div>\\n            </div>\\n            <div class=\"col-md-4 mb-3\">\\n             <div class=\"card\">\\n              <img alt=\"100%x280\" class=\"img-fluid\" src=\"https://images.unsplash.com/photo-1532715088550-62f09305f765?ixlib=rb-0.3.5&amp;q=80&amp;fm=jpg&amp;crop=entropy&amp;cs=tinysrgb&amp;w=1080&amp;fit=max&amp;ixid=eyJhcHBfaWQiOjMyMDc0fQ&amp;s=ebadb044b374504ef8e81bdec4d0e840\"/>\\n              <div class=\"card-body\">\\n               <p class=\"card-text\">\\n                With supporting text below as a natural lead-in to additional content.\\n               </p>\\n              </div>\\n             </div>\\n            </div>\\n            <div class=\"col-md-4 mb-3\">\\n             <div class=\"card\">\\n              <img alt=\"100%x280\" class=\"img-fluid\" src=\"https://images.unsplash.com/photo-1506197603052-3cc9c3a201bd?ixlib=rb-0.3.5&amp;q=80&amp;fm=jpg&amp;crop=entropy&amp;cs=tinysrgb&amp;w=1080&amp;fit=max&amp;ixid=eyJhcHBfaWQiOjMyMDc0fQ&amp;s=0754ab085804ae8a3b562548e6b4aa2e\"/>\\n              <div class=\"card-body\">\\n               <p class=\"card-text\">\\n                With supporting text below as a natural lead-in to additional content.\\n               </p>\\n              </div>\\n             </div>\\n            </div>\\n           </div>\\n          </div>\\n          <div class=\"carousel-item\">\\n           <div class=\"row\">\\n            <div class=\"col-md-4 mb-3\">\\n             <div class=\"card\">\\n              <img alt=\"100%x280\" class=\"img-fluid\" src=\"https://images.unsplash.com/photo-1507525428034-b723cf961d3e?ixlib=rb-0.3.5&amp;q=80&amp;fm=jpg&amp;crop=entropy&amp;cs=tinysrgb&amp;w=1080&amp;fit=max&amp;ixid=eyJhcHBfaWQiOjMyMDc0fQ&amp;s=ee8417f0ea2a50d53a12665820b54e23\"/>\\n              <div class=\"card-body\">\\n               <p class=\"card-text\">\\n                With supporting text below as a natural lead-in to additional content.\\n               </p>\\n              </div>\\n             </div>\\n            </div>\\n            <div class=\"col-md-4 mb-3\">\\n             <div class=\"card\">\\n              <img alt=\"100%x280\" class=\"img-fluid\" src=\"https://images.unsplash.com/photo-1532777946373-b6783242f211?ixlib=rb-0.3.5&amp;q=80&amp;fm=jpg&amp;crop=entropy&amp;cs=tinysrgb&amp;w=1080&amp;fit=max&amp;ixid=eyJhcHBfaWQiOjMyMDc0fQ&amp;s=8ac55cf3a68785643998730839663129\"/>\\n              <div class=\"card-body\">\\n               <p class=\"card-text\">\\n                With supporting text below as a natural lead-in to additional content.\\n               </p>\\n              </div>\\n             </div>\\n            </div>\\n            <div class=\"col-md-4 mb-3\">\\n             <div class=\"card\">\\n              <img alt=\"100%x280\" class=\"img-fluid\" src=\"https://images.unsplash.com/photo-1532763303805-529d595877c5?ixlib=rb-0.3.5&amp;q=80&amp;fm=jpg&amp;crop=entropy&amp;cs=tinysrgb&amp;w=1080&amp;fit=max&amp;ixid=eyJhcHBfaWQiOjMyMDc0fQ&amp;s=5ee4fd5d19b40f93eadb21871757eda6\"/>\\n              <div class=\"card-body\">\\n               <p class=\"card-text\">\\n                With supporting text below as a natural lead-in to additional content.\\n               </p>\\n              </div>\\n             </div>\\n            </div>\\n           </div>\\n          </div>\\n         </div>\\n        </div>\\n       </div>\\n      </div>\\n     </div>\\n    </section>\\n    <section class=\"footer\">\\n     <div class=\"container\">\\n      <div class=\"col-md-12\">\\n       <div class=\"row\">\\n        <div class=\"col-md-3\">\\n         <h5>\\n          The Red Planet\\n         </h5>\\n         <ul>\\n          <li>\\n           Dashboard\\n          </li>\\n          <li>\\n           Science Goals\\n          </li>\\n          <li>\\n           The Planet\\n          </li>\\n         </ul>\\n        </div>\\n        <div class=\"col-md-3\">\\n         <h5>\\n          The Program\\n         </h5>\\n         <ul>\\n          <li>\\n           Mission Statement\\n          </li>\\n          <li>\\n           About the Program\\n          </li>\\n          <li>\\n           Organization Why Mars?\\n          </li>\\n         </ul>\\n        </div>\\n        <div class=\"col-md-3\">\\n         <h5>\\n          Multimedia\\n         </h5>\\n         <ul>\\n          <li>\\n           Images\\n          </li>\\n          <li>\\n           Videos\\n          </li>\\n          <li>\\n           More Resources\\n          </li>\\n         </ul>\\n        </div>\\n        <div class=\"col-md-3\">\\n         <h5>\\n          Missions\\n         </h5>\\n         <ul>\\n          <li>\\n           Past\\n          </li>\\n          <li>\\n           Present\\n          </li>\\n          <li>\\n           Future\\n          </li>\\n         </ul>\\n        </div>\\n       </div>\\n      </div>\\n     </div>\\n    </section>\\n    <script src=\"https://code.jquery.com/jquery-1.12.4.min.js\" type=\"text/javascript\">\\n    </script>\\n    <script src=\"https://cdn.jsdelivr.net/npm/@popperjs/core@2.5.4/dist/umd/popper.min.js\">\\n    </script>\\n    <script src=\"https://cdn.jsdelivr.net/npm/bootstrap@5.0.0-beta1/dist/js/bootstrap.min.js\">\\n    </script>\\n    <script src=\"js/app.js\">\\n    </script>\\n   </div>\\n  </div>\\n </body>\\n</html>'"
      ]
     },
     "execution_count": 35,
     "metadata": {},
     "output_type": "execute_result"
    }
   ],
   "source": [
    "bs.prettify()"
   ]
  },
  {
   "cell_type": "code",
   "execution_count": 36,
   "metadata": {},
   "outputs": [
    {
     "data": {
      "text/plain": [
       "'\\n\\n\\n\\n\\n\\n\\nNews - Mars Exploration Program\\n\\n\\n\\n\\n\\n\\n\\nMARS Planet Science\\nExploration Program\\n\\n\\n\\n\\n\\n\\n\\nThe Red Planet\\n\\n\\nThe Program\\n\\n\\nNews & Events\\n\\n\\nMultimedia\\n\\n\\nMissions\\n\\n\\nMore\\n\\n\\n\\n\\n\\n\\n\\n\\n\\n\\nNews\\n\\n\\n\\n\\n\\n\\n\\n\\nLatest\\n20202019\\n\\n\\n\\nAll Categories\\nFeature StoriesPress ReleasesStatus Reports\\n\\n\\n\\n\\n\\n\\n\\n\\n\\n\\n\\n\\n\\n\\n\\n\\n\\n\\n\\nDecember 3, 2022\\nJoin NASA for the Launch of the Mars 2020 Perseverance Rover\\nNo matter where you live, choose from a menu of activities to join NASA as we \"Countdown to Mars\" and launch the Perseverance rover to the Red Planet.\\n\\n\\n\\n\\n\\n\\n\\n\\n\\n\\n\\n\\n\\n\\nDecember 2, 2022\\nNASA\\'s Curiosity Takes Selfie With \\'Mary Anning\\' on the Red Planet\\nThe Mars rover has drilled three samples of rock in this clay-enriched region since arriving in July.\\n\\n\\n\\n\\n\\n\\n\\n\\n\\n\\n\\n\\n\\n\\nNovember 27, 2022\\nMy Culture, My Voice\\nIn honor of Hispanic Heritage Month, Christina Hernandez, an instrument engineer on the Mars 2020 mission, talks about her childhood and journey to NASA.\\n\\n\\n\\n\\n\\n\\n\\n\\n\\n\\n\\n\\n\\n\\nNovember 26, 2022\\nHeat and Dust Help Launch Martian Water Into Space, Scientists Find\\nScientists using an instrument aboard NASA’s Mars Atmosphere and Volatile EvolutioN, or MAVEN, spacecraft have discovered that water vapor near the surface of the Red Planet is lofted higher into the atmosphere than anyone expected was possible. \\n\\n\\n\\n\\n\\n\\n\\n\\n\\n\\n\\n\\n\\n\\nNovember 20, 2022\\nNASA Moves Forward With Campaign to Return Mars Samples to Earth\\nDuring this next phase, the program will mature critical technologies and make critical design decisions as well as assess industry partnerships.\\n\\n\\n\\n\\n\\n\\n\\n\\n\\n\\n\\n\\n\\n\\nNovember 20, 2022\\nNASA\\'s Mars Rover Drivers Need Your Help\\nUsing an online tool to label Martian terrain types, you can train an artificial intelligence algorithm that could improve the way engineers guide the Curiosity rover.\\n\\n\\n\\n\\n\\n\\n\\n\\n\\n\\n\\n\\n\\n\\nNovember 20, 2022\\nMars Scientists Investigate Ancient Life in Australia\\nTeams with NASA\\'s Mars 2020 and ESA\\'s ExoMars practiced hunting for fossilized microbial life in the Australian Outback in preparation for their Red Planet missions. \\n\\n\\n\\n\\n\\n\\n\\n\\n\\n\\n\\n\\n\\n\\nNovember 18, 2022\\nVirginia Middle School Student Earns Honor of Naming NASA\\'s Next Mars Rover\\nNASA chose a seventh-grader from Virginia as winner of the agency\\'s \"Name the Rover\" essay contest. Alexander Mather\\'s entry for \"Perseverance\" was voted tops among 28,000 entries. \\n\\n\\n\\n\\n\\n\\n\\n\\n\\n\\n\\n\\n\\n\\nNovember 16, 2022\\nSensors on Mars 2020 Spacecraft Answer Long-Distance Call From Earth\\nInstruments tailored to collect data during the descent of NASA\\'s next rover through the Red Planet\\'s atmosphere have been checked in flight.\\n\\n\\n\\n\\n\\n\\n\\n\\n\\n\\n\\n\\n\\n\\nNovember 12, 2022\\nNASA\\'s Perseverance Rover Will Carry First Spacesuit Materials to Mars\\nIn a Q&A, spacesuit designer Amy Ross explains how five samples, including a piece of helmet visor, will be tested aboard the rover, which is targeting a July 30 launch. \\n\\n\\n\\n\\n\\n\\n\\n\\n\\n\\n\\n\\n\\n\\nNovember 10, 2022\\nNewfound Martian Aurora Actually the Most Common; Sheds Light on Mars\\' Changing Climate\\nA type of Martian aurora first identified by NASA’s MAVEN spacecraft in 2016 is actually the most common form of aurora occurring on the Red Planet, according to new results from the mission.\\n\\n\\n\\n\\n\\n\\n\\n\\n\\n\\n\\n\\n\\n\\nNovember 10, 2022\\nNASA\\'s InSight \\'Hears\\' Peculiar Sounds on Mars\\nListen to the marsquakes and other, less-expected sounds that the Mars lander has been detecting.\\n\\n\\n\\n\\n\\n\\n\\n\\n\\n\\n\\n\\n\\n\\nNovember 9, 2022\\nNASA\\'s Curiosity Mars Rover Takes a New Selfie Before Record Climb\\nAlong with capturing an image before its steepest ascent ever, the robotic explorer filmed its \"selfie stick,\" or robotic arm, in action.\\n\\n\\n\\n\\n\\n\\n\\n\\n\\n\\n\\n\\n\\n\\nNovember 7, 2022\\nThree New Views of Mars\\' Moon Phobos\\nTaken with the infrared camera aboard NASA\\'s Odyssey orbiter, they reveal temperature variations on the small moon as it drifts into and out of Mars’ shadow.\\n\\n\\n\\n\\n\\n\\n\\n\\n\\n\\n\\n\\n\\n\\nNovember 2, 2022\\nThe MarCO Mission Comes to an End\\nThe pair of briefcase-sized satellites made history when they sailed past Mars in 2019.\\n\\n\\n\\n\\n\\n\\nMore\\n\\n\\n\\n\\n\\nYou Might Also Like\\n\\n\\n\\n\\n\\n\\n\\n\\n\\n\\n\\nNASA to Broadcast Mars 2020 Perseverance Launch, Prelaunch Activities\\n\\n\\n\\n\\n\\n\\n\\nThe Launch Is Approaching for NASA\\'s Next Mars Rover, Perseverance\\n\\n\\n\\n\\n\\n\\n\\nNASA to Hold Mars 2020 Perseverance Rover Launch Briefing\\n\\n\\n\\n\\n\\n\\n\\n\\n\\n\\n\\nWith supporting text below as a natural lead-in to additional content.\\n\\n\\n\\n\\n\\n\\n\\nWith supporting text below as a natural lead-in to additional content.\\n\\n\\n\\n\\n\\n\\n\\nWith supporting text below as a natural lead-in to additional content.\\n\\n\\n\\n\\n\\n\\n\\n\\n\\n\\n\\nWith supporting text below as a natural lead-in to additional content.\\n\\n\\n\\n\\n\\n\\n\\nWith supporting text below as a natural lead-in to additional content.\\n\\n\\n\\n\\n\\n\\n\\nWith supporting text below as a natural lead-in to additional content.\\n\\n\\n\\n\\n\\n\\n\\n\\n\\n\\n\\n\\n\\n\\n\\n\\nThe Red Planet\\n\\nDashboard\\nScience Goals\\nThe Planet\\n\\n\\n\\nThe Program\\n\\nMission Statement\\nAbout the Program\\nOrganization Why Mars?\\n\\n\\n\\nMultimedia\\n\\nImages\\nVideos\\nMore Resources\\n\\n\\n\\nMissions\\n\\nPast\\nPresent\\nFuture\\n\\n\\n\\n\\n\\n\\n\\n\\n\\n\\n'"
      ]
     },
     "execution_count": 36,
     "metadata": {},
     "output_type": "execute_result"
    }
   ],
   "source": [
    "# Extract all the text elements\n",
    "bs.text"
   ]
  },
  {
   "cell_type": "markdown",
   "metadata": {},
   "source": [
    "### Step 3: Store the Results\n",
    "\n",
    "Extract the titles and preview text of the news articles that you scraped. Store the scraping results in Python data structures as follows:\n",
    "\n",
    "* Store each title-and-preview pair in a Python dictionary. And, give each dictionary two keys: `title` and `preview`. An example is the following:\n",
    "\n",
    "  ```python\n",
    "  {'title': \"Mars Rover Begins Mission!\", \n",
    "        'preview': \"NASA's Mars Rover begins a multiyear mission to collect data about the little-explored planet.\"}\n",
    "  ```\n",
    "\n",
    "* Store all the dictionaries in a Python list.\n",
    "\n",
    "* Print the list in your notebook."
   ]
  },
  {
   "cell_type": "code",
   "execution_count": 37,
   "metadata": {},
   "outputs": [],
   "source": [
    "# Create an empty list to store the dictionaries\n",
    "articles = []"
   ]
  },
  {
   "cell_type": "code",
   "execution_count": 38,
   "metadata": {},
   "outputs": [
    {
     "data": {
      "text/plain": [
       "[<div class=\"list_text\">\n",
       " <div class=\"list_date\">December 3, 2022</div>\n",
       " <div class=\"content_title\">Join NASA for the Launch of the Mars 2020 Perseverance Rover</div>\n",
       " <div class=\"article_teaser_body\">No matter where you live, choose from a menu of activities to join NASA as we \"Countdown to Mars\" and launch the Perseverance rover to the Red Planet.</div>\n",
       " </div>,\n",
       " <div class=\"list_text\">\n",
       " <div class=\"list_date\">December 2, 2022</div>\n",
       " <div class=\"content_title\">NASA's Curiosity Takes Selfie With 'Mary Anning' on the Red Planet</div>\n",
       " <div class=\"article_teaser_body\">The Mars rover has drilled three samples of rock in this clay-enriched region since arriving in July.</div>\n",
       " </div>,\n",
       " <div class=\"list_text\">\n",
       " <div class=\"list_date\">November 27, 2022</div>\n",
       " <div class=\"content_title\">My Culture, My Voice</div>\n",
       " <div class=\"article_teaser_body\">In honor of Hispanic Heritage Month, Christina Hernandez, an instrument engineer on the Mars 2020 mission, talks about her childhood and journey to NASA.</div>\n",
       " </div>,\n",
       " <div class=\"list_text\">\n",
       " <div class=\"list_date\">November 26, 2022</div>\n",
       " <div class=\"content_title\">Heat and Dust Help Launch Martian Water Into Space, Scientists Find</div>\n",
       " <div class=\"article_teaser_body\">Scientists using an instrument aboard NASA’s Mars Atmosphere and Volatile EvolutioN, or MAVEN, spacecraft have discovered that water vapor near the surface of the Red Planet is lofted higher into the atmosphere than anyone expected was possible. </div>\n",
       " </div>,\n",
       " <div class=\"list_text\">\n",
       " <div class=\"list_date\">November 20, 2022</div>\n",
       " <div class=\"content_title\">NASA Moves Forward With Campaign to Return Mars Samples to Earth</div>\n",
       " <div class=\"article_teaser_body\">During this next phase, the program will mature critical technologies and make critical design decisions as well as assess industry partnerships.</div>\n",
       " </div>,\n",
       " <div class=\"list_text\">\n",
       " <div class=\"list_date\">November 20, 2022</div>\n",
       " <div class=\"content_title\">NASA's Mars Rover Drivers Need Your Help</div>\n",
       " <div class=\"article_teaser_body\">Using an online tool to label Martian terrain types, you can train an artificial intelligence algorithm that could improve the way engineers guide the Curiosity rover.</div>\n",
       " </div>,\n",
       " <div class=\"list_text\">\n",
       " <div class=\"list_date\">November 20, 2022</div>\n",
       " <div class=\"content_title\">Mars Scientists Investigate Ancient Life in Australia</div>\n",
       " <div class=\"article_teaser_body\">Teams with NASA's Mars 2020 and ESA's ExoMars practiced hunting for fossilized microbial life in the Australian Outback in preparation for their Red Planet missions. </div>\n",
       " </div>,\n",
       " <div class=\"list_text\">\n",
       " <div class=\"list_date\">November 18, 2022</div>\n",
       " <div class=\"content_title\">Virginia Middle School Student Earns Honor of Naming NASA's Next Mars Rover</div>\n",
       " <div class=\"article_teaser_body\">NASA chose a seventh-grader from Virginia as winner of the agency's \"Name the Rover\" essay contest. Alexander Mather's entry for \"Perseverance\" was voted tops among 28,000 entries. </div>\n",
       " </div>,\n",
       " <div class=\"list_text\">\n",
       " <div class=\"list_date\">November 16, 2022</div>\n",
       " <div class=\"content_title\">Sensors on Mars 2020 Spacecraft Answer Long-Distance Call From Earth</div>\n",
       " <div class=\"article_teaser_body\">Instruments tailored to collect data during the descent of NASA's next rover through the Red Planet's atmosphere have been checked in flight.</div>\n",
       " </div>,\n",
       " <div class=\"list_text\">\n",
       " <div class=\"list_date\">November 12, 2022</div>\n",
       " <div class=\"content_title\">NASA's Perseverance Rover Will Carry First Spacesuit Materials to Mars</div>\n",
       " <div class=\"article_teaser_body\">In a Q&amp;A, spacesuit designer Amy Ross explains how five samples, including a piece of helmet visor, will be tested aboard the rover, which is targeting a July 30 launch. </div>\n",
       " </div>,\n",
       " <div class=\"list_text\">\n",
       " <div class=\"list_date\">November 10, 2022</div>\n",
       " <div class=\"content_title\">Newfound Martian Aurora Actually the Most Common; Sheds Light on Mars' Changing Climate</div>\n",
       " <div class=\"article_teaser_body\">A type of Martian aurora first identified by NASA’s MAVEN spacecraft in 2016 is actually the most common form of aurora occurring on the Red Planet, according to new results from the mission.</div>\n",
       " </div>,\n",
       " <div class=\"list_text\">\n",
       " <div class=\"list_date\">November 10, 2022</div>\n",
       " <div class=\"content_title\">NASA's InSight 'Hears' Peculiar Sounds on Mars</div>\n",
       " <div class=\"article_teaser_body\">Listen to the marsquakes and other, less-expected sounds that the Mars lander has been detecting.</div>\n",
       " </div>,\n",
       " <div class=\"list_text\">\n",
       " <div class=\"list_date\">November 9, 2022</div>\n",
       " <div class=\"content_title\">NASA's Curiosity Mars Rover Takes a New Selfie Before Record Climb</div>\n",
       " <div class=\"article_teaser_body\">Along with capturing an image before its steepest ascent ever, the robotic explorer filmed its \"selfie stick,\" or robotic arm, in action.</div>\n",
       " </div>,\n",
       " <div class=\"list_text\">\n",
       " <div class=\"list_date\">November 7, 2022</div>\n",
       " <div class=\"content_title\">Three New Views of Mars' Moon Phobos</div>\n",
       " <div class=\"article_teaser_body\">Taken with the infrared camera aboard NASA's Odyssey orbiter, they reveal temperature variations on the small moon as it drifts into and out of Mars’ shadow.</div>\n",
       " </div>,\n",
       " <div class=\"list_text\">\n",
       " <div class=\"list_date\">November 2, 2022</div>\n",
       " <div class=\"content_title\">The MarCO Mission Comes to an End</div>\n",
       " <div class=\"article_teaser_body\">The pair of briefcase-sized satellites made history when they sailed past Mars in 2019.</div>\n",
       " </div>]"
      ]
     },
     "execution_count": 38,
     "metadata": {},
     "output_type": "execute_result"
    }
   ],
   "source": [
    "# Loop through the text elements\n",
    "\n",
    "results = bs.find_all('div', class_='list_text')\n",
    "results"
   ]
  },
  {
   "cell_type": "code",
   "execution_count": 44,
   "metadata": {},
   "outputs": [
    {
     "name": "stdout",
     "output_type": "stream",
     "text": [
      "-----------------\n",
      "Join NASA for the Launch of the Mars 2020 Perseverance Rover\n",
      "No matter where you live, choose from a menu of activities to join NASA as we \"Countdown to Mars\" and launch the Perseverance rover to the Red Planet.\n",
      "-----------------\n",
      "NASA's Curiosity Takes Selfie With 'Mary Anning' on the Red Planet\n",
      "The Mars rover has drilled three samples of rock in this clay-enriched region since arriving in July.\n",
      "-----------------\n",
      "My Culture, My Voice\n",
      "In honor of Hispanic Heritage Month, Christina Hernandez, an instrument engineer on the Mars 2020 mission, talks about her childhood and journey to NASA.\n",
      "-----------------\n",
      "Heat and Dust Help Launch Martian Water Into Space, Scientists Find\n",
      "Scientists using an instrument aboard NASA’s Mars Atmosphere and Volatile EvolutioN, or MAVEN, spacecraft have discovered that water vapor near the surface of the Red Planet is lofted higher into the atmosphere than anyone expected was possible.\n",
      "-----------------\n",
      "NASA Moves Forward With Campaign to Return Mars Samples to Earth\n",
      "During this next phase, the program will mature critical technologies and make critical design decisions as well as assess industry partnerships.\n",
      "-----------------\n",
      "NASA's Mars Rover Drivers Need Your Help\n",
      "Using an online tool to label Martian terrain types, you can train an artificial intelligence algorithm that could improve the way engineers guide the Curiosity rover.\n",
      "-----------------\n",
      "Mars Scientists Investigate Ancient Life in Australia\n",
      "Teams with NASA's Mars 2020 and ESA's ExoMars practiced hunting for fossilized microbial life in the Australian Outback in preparation for their Red Planet missions.\n",
      "-----------------\n",
      "Virginia Middle School Student Earns Honor of Naming NASA's Next Mars Rover\n",
      "NASA chose a seventh-grader from Virginia as winner of the agency's \"Name the Rover\" essay contest. Alexander Mather's entry for \"Perseverance\" was voted tops among 28,000 entries.\n",
      "-----------------\n",
      "Sensors on Mars 2020 Spacecraft Answer Long-Distance Call From Earth\n",
      "Instruments tailored to collect data during the descent of NASA's next rover through the Red Planet's atmosphere have been checked in flight.\n",
      "-----------------\n",
      "NASA's Perseverance Rover Will Carry First Spacesuit Materials to Mars\n",
      "In a Q&A, spacesuit designer Amy Ross explains how five samples, including a piece of helmet visor, will be tested aboard the rover, which is targeting a July 30 launch.\n",
      "-----------------\n",
      "Newfound Martian Aurora Actually the Most Common; Sheds Light on Mars' Changing Climate\n",
      "A type of Martian aurora first identified by NASA’s MAVEN spacecraft in 2016 is actually the most common form of aurora occurring on the Red Planet, according to new results from the mission.\n",
      "-----------------\n",
      "NASA's InSight 'Hears' Peculiar Sounds on Mars\n",
      "Listen to the marsquakes and other, less-expected sounds that the Mars lander has been detecting.\n",
      "-----------------\n",
      "NASA's Curiosity Mars Rover Takes a New Selfie Before Record Climb\n",
      "Along with capturing an image before its steepest ascent ever, the robotic explorer filmed its \"selfie stick,\" or robotic arm, in action.\n",
      "-----------------\n",
      "Three New Views of Mars' Moon Phobos\n",
      "Taken with the infrared camera aboard NASA's Odyssey orbiter, they reveal temperature variations on the small moon as it drifts into and out of Mars’ shadow.\n",
      "-----------------\n",
      "The MarCO Mission Comes to an End\n",
      "The pair of briefcase-sized satellites made history when they sailed past Mars in 2019.\n"
     ]
    }
   ],
   "source": [
    "# Extract the title and preview text from the elements\n",
    "for result in results:\n",
    "    # scrape the article header \n",
    "    title = result.find('div', class_='content_title').text.strip()\n",
    "    # scrape the article news region\n",
    "    text = result.find('div', class_='article_teaser_body').text.strip()\n",
    "# Store each title and preview pair in a dictionary\n",
    "\n",
    "    print('-----------------')\n",
    "    print(title)\n",
    "    print(text)\n",
    "    \n",
    "    pairs = {\n",
    "        'title': title,\n",
    "        'preview': text,\n",
    "        }\n",
    "    \n",
    "# Add the dictionary to the list\n",
    "    articles.append(pairs)"
   ]
  },
  {
   "cell_type": "code",
   "execution_count": 45,
   "metadata": {},
   "outputs": [
    {
     "data": {
      "text/plain": [
       "[{'title': 'Join NASA for the Launch of the Mars 2020 Perseverance Rover',\n",
       "  'preview': 'No matter where you live, choose from a menu of activities to join NASA as we \"Countdown to Mars\" and launch the Perseverance rover to the Red Planet.'},\n",
       " {'title': \"NASA's Curiosity Takes Selfie With 'Mary Anning' on the Red Planet\",\n",
       "  'preview': 'The Mars rover has drilled three samples of rock in this clay-enriched region since arriving in July.'},\n",
       " {'title': 'My Culture, My Voice',\n",
       "  'preview': 'In honor of Hispanic Heritage Month, Christina Hernandez, an instrument engineer on the Mars 2020 mission, talks about her childhood and journey to NASA.'},\n",
       " {'title': 'Heat and Dust Help Launch Martian Water Into Space, Scientists Find',\n",
       "  'preview': 'Scientists using an instrument aboard NASA’s Mars Atmosphere and Volatile EvolutioN, or MAVEN, spacecraft have discovered that water vapor near the surface of the Red Planet is lofted higher into the atmosphere than anyone expected was possible.'},\n",
       " {'title': 'NASA Moves Forward With Campaign to Return Mars Samples to Earth',\n",
       "  'preview': 'During this next phase, the program will mature critical technologies and make critical design decisions as well as assess industry partnerships.'},\n",
       " {'title': \"NASA's Mars Rover Drivers Need Your Help\",\n",
       "  'preview': 'Using an online tool to label Martian terrain types, you can train an artificial intelligence algorithm that could improve the way engineers guide the Curiosity rover.'},\n",
       " {'title': 'Mars Scientists Investigate Ancient Life in Australia',\n",
       "  'preview': \"Teams with NASA's Mars 2020 and ESA's ExoMars practiced hunting for fossilized microbial life in the Australian Outback in preparation for their Red Planet missions.\"},\n",
       " {'title': \"Virginia Middle School Student Earns Honor of Naming NASA's Next Mars Rover\",\n",
       "  'preview': 'NASA chose a seventh-grader from Virginia as winner of the agency\\'s \"Name the Rover\" essay contest. Alexander Mather\\'s entry for \"Perseverance\" was voted tops among 28,000 entries.'},\n",
       " {'title': 'Sensors on Mars 2020 Spacecraft Answer Long-Distance Call From Earth',\n",
       "  'preview': \"Instruments tailored to collect data during the descent of NASA's next rover through the Red Planet's atmosphere have been checked in flight.\"},\n",
       " {'title': \"NASA's Perseverance Rover Will Carry First Spacesuit Materials to Mars\",\n",
       "  'preview': 'In a Q&A, spacesuit designer Amy Ross explains how five samples, including a piece of helmet visor, will be tested aboard the rover, which is targeting a July 30 launch.'},\n",
       " {'title': \"Newfound Martian Aurora Actually the Most Common; Sheds Light on Mars' Changing Climate\",\n",
       "  'preview': 'A type of Martian aurora first identified by NASA’s MAVEN spacecraft in 2016 is actually the most common form of aurora occurring on the Red Planet, according to new results from the mission.'},\n",
       " {'title': \"NASA's InSight 'Hears' Peculiar Sounds on Mars\",\n",
       "  'preview': 'Listen to the marsquakes and other, less-expected sounds that the Mars lander has been detecting.'},\n",
       " {'title': \"NASA's Curiosity Mars Rover Takes a New Selfie Before Record Climb\",\n",
       "  'preview': 'Along with capturing an image before its steepest ascent ever, the robotic explorer filmed its \"selfie stick,\" or robotic arm, in action.'},\n",
       " {'title': \"Three New Views of Mars' Moon Phobos\",\n",
       "  'preview': \"Taken with the infrared camera aboard NASA's Odyssey orbiter, they reveal temperature variations on the small moon as it drifts into and out of Mars’ shadow.\"},\n",
       " {'title': 'The MarCO Mission Comes to an End',\n",
       "  'preview': 'The pair of briefcase-sized satellites made history when they sailed past Mars in 2019.'},\n",
       " {'title': 'Join NASA for the Launch of the Mars 2020 Perseverance Rover',\n",
       "  'preview': 'No matter where you live, choose from a menu of activities to join NASA as we \"Countdown to Mars\" and launch the Perseverance rover to the Red Planet.'},\n",
       " {'title': \"NASA's Curiosity Takes Selfie With 'Mary Anning' on the Red Planet\",\n",
       "  'preview': 'The Mars rover has drilled three samples of rock in this clay-enriched region since arriving in July.'},\n",
       " {'title': 'My Culture, My Voice',\n",
       "  'preview': 'In honor of Hispanic Heritage Month, Christina Hernandez, an instrument engineer on the Mars 2020 mission, talks about her childhood and journey to NASA.'},\n",
       " {'title': 'Heat and Dust Help Launch Martian Water Into Space, Scientists Find',\n",
       "  'preview': 'Scientists using an instrument aboard NASA’s Mars Atmosphere and Volatile EvolutioN, or MAVEN, spacecraft have discovered that water vapor near the surface of the Red Planet is lofted higher into the atmosphere than anyone expected was possible.'},\n",
       " {'title': 'NASA Moves Forward With Campaign to Return Mars Samples to Earth',\n",
       "  'preview': 'During this next phase, the program will mature critical technologies and make critical design decisions as well as assess industry partnerships.'},\n",
       " {'title': \"NASA's Mars Rover Drivers Need Your Help\",\n",
       "  'preview': 'Using an online tool to label Martian terrain types, you can train an artificial intelligence algorithm that could improve the way engineers guide the Curiosity rover.'},\n",
       " {'title': 'Mars Scientists Investigate Ancient Life in Australia',\n",
       "  'preview': \"Teams with NASA's Mars 2020 and ESA's ExoMars practiced hunting for fossilized microbial life in the Australian Outback in preparation for their Red Planet missions.\"},\n",
       " {'title': \"Virginia Middle School Student Earns Honor of Naming NASA's Next Mars Rover\",\n",
       "  'preview': 'NASA chose a seventh-grader from Virginia as winner of the agency\\'s \"Name the Rover\" essay contest. Alexander Mather\\'s entry for \"Perseverance\" was voted tops among 28,000 entries.'},\n",
       " {'title': 'Sensors on Mars 2020 Spacecraft Answer Long-Distance Call From Earth',\n",
       "  'preview': \"Instruments tailored to collect data during the descent of NASA's next rover through the Red Planet's atmosphere have been checked in flight.\"},\n",
       " {'title': \"NASA's Perseverance Rover Will Carry First Spacesuit Materials to Mars\",\n",
       "  'preview': 'In a Q&A, spacesuit designer Amy Ross explains how five samples, including a piece of helmet visor, will be tested aboard the rover, which is targeting a July 30 launch.'},\n",
       " {'title': \"Newfound Martian Aurora Actually the Most Common; Sheds Light on Mars' Changing Climate\",\n",
       "  'preview': 'A type of Martian aurora first identified by NASA’s MAVEN spacecraft in 2016 is actually the most common form of aurora occurring on the Red Planet, according to new results from the mission.'},\n",
       " {'title': \"NASA's InSight 'Hears' Peculiar Sounds on Mars\",\n",
       "  'preview': 'Listen to the marsquakes and other, less-expected sounds that the Mars lander has been detecting.'},\n",
       " {'title': \"NASA's Curiosity Mars Rover Takes a New Selfie Before Record Climb\",\n",
       "  'preview': 'Along with capturing an image before its steepest ascent ever, the robotic explorer filmed its \"selfie stick,\" or robotic arm, in action.'},\n",
       " {'title': \"Three New Views of Mars' Moon Phobos\",\n",
       "  'preview': \"Taken with the infrared camera aboard NASA's Odyssey orbiter, they reveal temperature variations on the small moon as it drifts into and out of Mars’ shadow.\"},\n",
       " {'title': 'The MarCO Mission Comes to an End',\n",
       "  'preview': 'The pair of briefcase-sized satellites made history when they sailed past Mars in 2019.'}]"
      ]
     },
     "execution_count": 45,
     "metadata": {},
     "output_type": "execute_result"
    }
   ],
   "source": [
    "# Print the list to confirm success\n",
    "articles"
   ]
  },
  {
   "cell_type": "code",
   "execution_count": 41,
   "metadata": {},
   "outputs": [],
   "source": [
    "browser.quit()"
   ]
  },
  {
   "cell_type": "markdown",
   "metadata": {},
   "source": [
    "### (Optional) Step 4: Export the Data\n",
    "\n",
    "Optionally, store the scraped data in a file or database (to ease sharing the data with others). To do so, export the scraped data to either a JSON file or a MongoDB database."
   ]
  },
  {
   "cell_type": "code",
   "execution_count": 50,
   "metadata": {},
   "outputs": [
    {
     "name": "stdout",
     "output_type": "stream",
     "text": [
      "[{\"title\": \"Join NASA for the Launch of the Mars 2020 Perseverance Rover\", \"preview\": \"No matter where you live, choose from a menu of activities to join NASA as we \\\"Countdown to Mars\\\" and launch the Perseverance rover to the Red Planet.\"}, {\"title\": \"NASA's Curiosity Takes Selfie With 'Mary Anning' on the Red Planet\", \"preview\": \"The Mars rover has drilled three samples of rock in this clay-enriched region since arriving in July.\"}, {\"title\": \"My Culture, My Voice\", \"preview\": \"In honor of Hispanic Heritage Month, Christina Hernandez, an instrument engineer on the Mars 2020 mission, talks about her childhood and journey to NASA.\"}, {\"title\": \"Heat and Dust Help Launch Martian Water Into Space, Scientists Find\", \"preview\": \"Scientists using an instrument aboard NASA\\u2019s Mars Atmosphere and Volatile EvolutioN, or MAVEN, spacecraft have discovered that water vapor near the surface of the Red Planet is lofted higher into the atmosphere than anyone expected was possible.\"}, {\"title\": \"NASA Moves Forward With Campaign to Return Mars Samples to Earth\", \"preview\": \"During this next phase, the program will mature critical technologies and make critical design decisions as well as assess industry partnerships.\"}, {\"title\": \"NASA's Mars Rover Drivers Need Your Help\", \"preview\": \"Using an online tool to label Martian terrain types, you can train an artificial intelligence algorithm that could improve the way engineers guide the Curiosity rover.\"}, {\"title\": \"Mars Scientists Investigate Ancient Life in Australia\", \"preview\": \"Teams with NASA's Mars 2020 and ESA's ExoMars practiced hunting for fossilized microbial life in the Australian Outback in preparation for their Red Planet missions.\"}, {\"title\": \"Virginia Middle School Student Earns Honor of Naming NASA's Next Mars Rover\", \"preview\": \"NASA chose a seventh-grader from Virginia as winner of the agency's \\\"Name the Rover\\\" essay contest. Alexander Mather's entry for \\\"Perseverance\\\" was voted tops among 28,000 entries.\"}, {\"title\": \"Sensors on Mars 2020 Spacecraft Answer Long-Distance Call From Earth\", \"preview\": \"Instruments tailored to collect data during the descent of NASA's next rover through the Red Planet's atmosphere have been checked in flight.\"}, {\"title\": \"NASA's Perseverance Rover Will Carry First Spacesuit Materials to Mars\", \"preview\": \"In a Q&A, spacesuit designer Amy Ross explains how five samples, including a piece of helmet visor, will be tested aboard the rover, which is targeting a July 30 launch.\"}, {\"title\": \"Newfound Martian Aurora Actually the Most Common; Sheds Light on Mars' Changing Climate\", \"preview\": \"A type of Martian aurora first identified by NASA\\u2019s MAVEN spacecraft in 2016 is actually the most common form of aurora occurring on the Red Planet, according to new results from the mission.\"}, {\"title\": \"NASA's InSight 'Hears' Peculiar Sounds on Mars\", \"preview\": \"Listen to the marsquakes and other, less-expected sounds that the Mars lander has been detecting.\"}, {\"title\": \"NASA's Curiosity Mars Rover Takes a New Selfie Before Record Climb\", \"preview\": \"Along with capturing an image before its steepest ascent ever, the robotic explorer filmed its \\\"selfie stick,\\\" or robotic arm, in action.\"}, {\"title\": \"Three New Views of Mars' Moon Phobos\", \"preview\": \"Taken with the infrared camera aboard NASA's Odyssey orbiter, they reveal temperature variations on the small moon as it drifts into and out of Mars\\u2019 shadow.\"}, {\"title\": \"The MarCO Mission Comes to an End\", \"preview\": \"The pair of briefcase-sized satellites made history when they sailed past Mars in 2019.\"}, {\"title\": \"Join NASA for the Launch of the Mars 2020 Perseverance Rover\", \"preview\": \"No matter where you live, choose from a menu of activities to join NASA as we \\\"Countdown to Mars\\\" and launch the Perseverance rover to the Red Planet.\"}, {\"title\": \"NASA's Curiosity Takes Selfie With 'Mary Anning' on the Red Planet\", \"preview\": \"The Mars rover has drilled three samples of rock in this clay-enriched region since arriving in July.\"}, {\"title\": \"My Culture, My Voice\", \"preview\": \"In honor of Hispanic Heritage Month, Christina Hernandez, an instrument engineer on the Mars 2020 mission, talks about her childhood and journey to NASA.\"}, {\"title\": \"Heat and Dust Help Launch Martian Water Into Space, Scientists Find\", \"preview\": \"Scientists using an instrument aboard NASA\\u2019s Mars Atmosphere and Volatile EvolutioN, or MAVEN, spacecraft have discovered that water vapor near the surface of the Red Planet is lofted higher into the atmosphere than anyone expected was possible.\"}, {\"title\": \"NASA Moves Forward With Campaign to Return Mars Samples to Earth\", \"preview\": \"During this next phase, the program will mature critical technologies and make critical design decisions as well as assess industry partnerships.\"}, {\"title\": \"NASA's Mars Rover Drivers Need Your Help\", \"preview\": \"Using an online tool to label Martian terrain types, you can train an artificial intelligence algorithm that could improve the way engineers guide the Curiosity rover.\"}, {\"title\": \"Mars Scientists Investigate Ancient Life in Australia\", \"preview\": \"Teams with NASA's Mars 2020 and ESA's ExoMars practiced hunting for fossilized microbial life in the Australian Outback in preparation for their Red Planet missions.\"}, {\"title\": \"Virginia Middle School Student Earns Honor of Naming NASA's Next Mars Rover\", \"preview\": \"NASA chose a seventh-grader from Virginia as winner of the agency's \\\"Name the Rover\\\" essay contest. Alexander Mather's entry for \\\"Perseverance\\\" was voted tops among 28,000 entries.\"}, {\"title\": \"Sensors on Mars 2020 Spacecraft Answer Long-Distance Call From Earth\", \"preview\": \"Instruments tailored to collect data during the descent of NASA's next rover through the Red Planet's atmosphere have been checked in flight.\"}, {\"title\": \"NASA's Perseverance Rover Will Carry First Spacesuit Materials to Mars\", \"preview\": \"In a Q&A, spacesuit designer Amy Ross explains how five samples, including a piece of helmet visor, will be tested aboard the rover, which is targeting a July 30 launch.\"}, {\"title\": \"Newfound Martian Aurora Actually the Most Common; Sheds Light on Mars' Changing Climate\", \"preview\": \"A type of Martian aurora first identified by NASA\\u2019s MAVEN spacecraft in 2016 is actually the most common form of aurora occurring on the Red Planet, according to new results from the mission.\"}, {\"title\": \"NASA's InSight 'Hears' Peculiar Sounds on Mars\", \"preview\": \"Listen to the marsquakes and other, less-expected sounds that the Mars lander has been detecting.\"}, {\"title\": \"NASA's Curiosity Mars Rover Takes a New Selfie Before Record Climb\", \"preview\": \"Along with capturing an image before its steepest ascent ever, the robotic explorer filmed its \\\"selfie stick,\\\" or robotic arm, in action.\"}, {\"title\": \"Three New Views of Mars' Moon Phobos\", \"preview\": \"Taken with the infrared camera aboard NASA's Odyssey orbiter, they reveal temperature variations on the small moon as it drifts into and out of Mars\\u2019 shadow.\"}, {\"title\": \"The MarCO Mission Comes to an End\", \"preview\": \"The pair of briefcase-sized satellites made history when they sailed past Mars in 2019.\"}]\n"
     ]
    }
   ],
   "source": [
    "# Export data to JSON\n",
    "articles_json = json.dumps(articles)\n",
    "print(articles_json)\n",
    "\n",
    "with open(\"articles.json\", \"w\") as outfile:\n",
    "    outfile.write(articles_json)"
   ]
  },
  {
   "cell_type": "code",
   "execution_count": null,
   "metadata": {},
   "outputs": [],
   "source": [
    "# Export data to MongoDB\n"
   ]
  }
 ],
 "metadata": {
  "kernelspec": {
   "display_name": "Python 3 (ipykernel)",
   "language": "python",
   "name": "python3"
  },
  "language_info": {
   "codemirror_mode": {
    "name": "ipython",
    "version": 3
   },
   "file_extension": ".py",
   "mimetype": "text/x-python",
   "name": "python",
   "nbconvert_exporter": "python",
   "pygments_lexer": "ipython3",
   "version": "3.9.12"
  }
 },
 "nbformat": 4,
 "nbformat_minor": 4
}
